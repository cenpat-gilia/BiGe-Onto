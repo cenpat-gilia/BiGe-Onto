{
  "nbformat": 4,
  "nbformat_minor": 0,
  "metadata": {
    "colab": {
      "provenance": [],
      "authorship_tag": "ABX9TyO0uxN6keecFQcnU7BqR7j9",
      "include_colab_link": true
    },
    "kernelspec": {
      "name": "python3",
      "display_name": "Python 3"
    },
    "language_info": {
      "name": "python"
    }
  },
  "cells": [
    {
      "cell_type": "markdown",
      "metadata": {
        "id": "view-in-github",
        "colab_type": "text"
      },
      "source": [
        "<a href=\"https://colab.research.google.com/github/germanbraun/BioOnto/blob/master/Labs/SPARQLWrapper/SPARQL.ipynb\" target=\"_parent\"><img src=\"https://colab.research.google.com/assets/colab-badge.svg\" alt=\"Open In Colab\"/></a>"
      ]
    },
    {
      "cell_type": "markdown",
      "source": [
        "Instalar dependencias"
      ],
      "metadata": {
        "id": "lAq6-n0mAdzU"
      }
    },
    {
      "cell_type": "code",
      "source": [
        "!pip install rdflib\n",
        "!pip install SPARQLWrapper\n",
        "!pip install requests"
      ],
      "metadata": {
        "id": "KiLjBQGjAdhM"
      },
      "execution_count": null,
      "outputs": []
    },
    {
      "cell_type": "markdown",
      "source": [
        "Importar py librerías"
      ],
      "metadata": {
        "id": "oR0LexHL9yri"
      }
    },
    {
      "cell_type": "code",
      "execution_count": 11,
      "metadata": {
        "id": "H8dmmI_T9gd8"
      },
      "outputs": [],
      "source": [
        "from SPARQLWrapper import SPARQLWrapper, JSON\n",
        "\n",
        "import json\n",
        "from json.encoder import JSONEncoder"
      ]
    },
    {
      "cell_type": "markdown",
      "source": [
        "Consultar un dataset remoto"
      ],
      "metadata": {
        "id": "swuEud-GKSqm"
      }
    },
    {
      "cell_type": "code",
      "source": [
        "#Remote service\n",
        "endpoint_url = \"http://dbpedia.org/sparql\"\n",
        "sparqlw = SPARQLWrapper(endpoint_url)\n",
        "sparqlw.setReturnFormat(JSON)\n",
        "\n",
        "\n",
        "query = \"\"\"\n",
        "PREFIX foaf: <http://xmlns.com/foaf/0.1/>\n",
        "PREFIX dbo: <http://dbpedia.org/ontology/>\n",
        "SELECT DISTINCT ?x WHERE {\n",
        "?jd foaf:name \\\"Johnny Depp\\\"@en .\n",
        "?m dbo:starring ?jd .\n",
        "?m dbo:starring ?other .\n",
        "?other foaf:name ?x .\n",
        "FILTER (STR(?x)!=\\\"Johnny Depp\\\")\n",
        "}\n",
        "ORDER BY ?x\n",
        "LIMIT 10\n",
        "\"\"\"\n",
        "\n",
        "sparqlw.setQuery(query)\n",
        "\n",
        "results = sparqlw.query().convert()\n",
        "\n",
        "#Prints JSON file\n",
        "#print(results)\n",
        "\n",
        "print(\"Stars co-starring Johnny Depp (limit to 10):\")\n",
        "i=0\n",
        "for result in results[\"results\"][\"bindings\"]:\n",
        "    i+=1\n",
        "    #Prints individual results\n",
        "    print(result[\"x\"][\"value\"])"
      ],
      "metadata": {
        "id": "_Yqf4iCLJJMz"
      },
      "execution_count": null,
      "outputs": []
    },
    {
      "cell_type": "markdown",
      "source": [],
      "metadata": {
        "id": "q8-NMSVj9xZA"
      }
    }
  ]
}